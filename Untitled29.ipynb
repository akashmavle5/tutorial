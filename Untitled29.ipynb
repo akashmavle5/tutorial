{
  "nbformat": 4,
  "nbformat_minor": 0,
  "metadata": {
    "colab": {
      "name": "Untitled29.ipynb",
      "provenance": [],
      "authorship_tag": "ABX9TyOD8VwOKvt1mm5sqKGYsc0a",
      "include_colab_link": true
    },
    "kernelspec": {
      "name": "python3",
      "display_name": "Python 3"
    },
    "language_info": {
      "name": "python"
    }
  },
  "cells": [
    {
      "cell_type": "markdown",
      "metadata": {
        "id": "view-in-github",
        "colab_type": "text"
      },
      "source": [
        "<a href=\"https://colab.research.google.com/github/akashmavle5/tutorial/blob/master/Untitled29.ipynb\" target=\"_parent\"><img src=\"https://colab.research.google.com/assets/colab-badge.svg\" alt=\"Open In Colab\"/></a>"
      ]
    },
    {
      "cell_type": "code",
      "metadata": {
        "id": "zBuM3XEIJvLG"
      },
      "source": [
        "!apt-get install openjdk-8-jdk-headless -qq > /dev/null\n",
        "!wget -q http://archive.apache.org/dist/spark/spark-3.1.1/spark-3.1.1-bin-hadoop3.2.tgz\n",
        "!tar xf spark-3.1.1-bin-hadoop3.2.tgz\n",
        "!pip install -q findspark"
      ],
      "execution_count": 1,
      "outputs": []
    },
    {
      "cell_type": "code",
      "metadata": {
        "id": "9hOFJphti4mp"
      },
      "source": [
        "import os\n",
        "os.environ[\"JAVA_HOME\"] = \"/usr/lib/jvm/java-8-openjdk-amd64\"\n",
        "os.environ[\"SPARK_HOME\"] = \"/content/spark-3.1.1-bin-hadoop3.2\""
      ],
      "execution_count": 2,
      "outputs": []
    },
    {
      "cell_type": "code",
      "metadata": {
        "colab": {
          "base_uri": "https://localhost:8080/"
        },
        "id": "fPztQ8xHi-s2",
        "outputId": "158765e4-04e3-4517-9e0a-44e95091c796"
      },
      "source": [
        "!ls"
      ],
      "execution_count": 3,
      "outputs": [
        {
          "output_type": "stream",
          "text": [
            "sample_data  spark-3.1.1-bin-hadoop3.2\tspark-3.1.1-bin-hadoop3.2.tgz\n"
          ],
          "name": "stdout"
        }
      ]
    },
    {
      "cell_type": "code",
      "metadata": {
        "colab": {
          "base_uri": "https://localhost:8080/",
          "height": 224
        },
        "id": "uSS0ALORjDYY",
        "outputId": "e844ad83-7c65-41c7-8495-34560f68086a"
      },
      "source": [
        "import findspark\n",
        "findspark.init()\n",
        "from pyspark.sql import SparkSession\n",
        "spark = SparkSession.builder.master(\"local[*]\").getOrCreate()\n",
        "spark.conf.set(\"spark.sql.repl.eagerEval.enabled\", True) # Property used to format output tables better\n",
        "spark"
      ],
      "execution_count": 4,
      "outputs": [
        {
          "output_type": "execute_result",
          "data": {
            "text/html": [
              "\n",
              "            <div>\n",
              "                <p><b>SparkSession - in-memory</b></p>\n",
              "                \n",
              "        <div>\n",
              "            <p><b>SparkContext</b></p>\n",
              "\n",
              "            <p><a href=\"http://025a2c4e855c:4040\">Spark UI</a></p>\n",
              "\n",
              "            <dl>\n",
              "              <dt>Version</dt>\n",
              "                <dd><code>v3.1.1</code></dd>\n",
              "              <dt>Master</dt>\n",
              "                <dd><code>local[*]</code></dd>\n",
              "              <dt>AppName</dt>\n",
              "                <dd><code>pyspark-shell</code></dd>\n",
              "            </dl>\n",
              "        </div>\n",
              "        \n",
              "            </div>\n",
              "        "
            ],
            "text/plain": [
              "<pyspark.sql.session.SparkSession at 0x7f2430f445d0>"
            ]
          },
          "metadata": {
            "tags": []
          },
          "execution_count": 4
        }
      ]
    },
    {
      "cell_type": "code",
      "metadata": {
        "colab": {
          "base_uri": "https://localhost:8080/"
        },
        "id": "pDJwkN1NjIQ3",
        "outputId": "77b5fecb-2559-4a34-9547-fa742d580871"
      },
      "source": [
        "# Downloading and preprocessing Cars Data downloaded origianlly from https://perso.telecom-paristech.fr/eagan/class/igr204/datasets\n",
        "# Many of these datasets have been cleaned up by Petra Isenberg, Pierre Dragicevic and Yvonne Jansen\n",
        "!wget https://jacobceles.github.io/knowledge_repo/colab_and_pyspark/cars.csv"
      ],
      "execution_count": 5,
      "outputs": [
        {
          "output_type": "stream",
          "text": [
            "--2021-04-08 17:37:21--  https://jacobceles.github.io/knowledge_repo/colab_and_pyspark/cars.csv\n",
            "Resolving jacobceles.github.io (jacobceles.github.io)... 185.199.111.153, 185.199.109.153, 185.199.108.153, ...\n",
            "Connecting to jacobceles.github.io (jacobceles.github.io)|185.199.111.153|:443... connected.\n",
            "HTTP request sent, awaiting response... 301 Moved Permanently\n",
            "Location: https://jacobcelestine.com/knowledge_repo/colab_and_pyspark/cars.csv [following]\n",
            "--2021-04-08 17:37:21--  https://jacobcelestine.com/knowledge_repo/colab_and_pyspark/cars.csv\n",
            "Resolving jacobcelestine.com (jacobcelestine.com)... 185.199.108.153, 185.199.109.153, 185.199.110.153, ...\n",
            "Connecting to jacobcelestine.com (jacobcelestine.com)|185.199.108.153|:443... connected.\n",
            "HTTP request sent, awaiting response... 200 OK\n",
            "Length: 22608 (22K) [text/csv]\n",
            "Saving to: ‘cars.csv’\n",
            "\n",
            "cars.csv            100%[===================>]  22.08K  --.-KB/s    in 0.001s  \n",
            "\n",
            "2021-04-08 17:37:21 (18.0 MB/s) - ‘cars.csv’ saved [22608/22608]\n",
            "\n"
          ],
          "name": "stdout"
        }
      ]
    },
    {
      "cell_type": "code",
      "metadata": {
        "colab": {
          "base_uri": "https://localhost:8080/"
        },
        "id": "xd2aYIbTjTU3",
        "outputId": "3dcdc9f9-74ce-46ec-c77c-73778ec4f90b"
      },
      "source": [
        "!ls"
      ],
      "execution_count": 6,
      "outputs": [
        {
          "output_type": "stream",
          "text": [
            "cars.csv  sample_data  spark-3.1.1-bin-hadoop3.2  spark-3.1.1-bin-hadoop3.2.tgz\n"
          ],
          "name": "stdout"
        }
      ]
    },
    {
      "cell_type": "code",
      "metadata": {
        "colab": {
          "base_uri": "https://localhost:8080/"
        },
        "id": "bTP1TjIHjXL2",
        "outputId": "66bc54a0-c32c-44db-ad41-86516138f6fe"
      },
      "source": [
        "# Load data from csv to a dataframe. \n",
        "# header=True means the first row is a header \n",
        "# sep=';' means the column are seperated using ''\n",
        "df = spark.read.csv('cars.csv', header=True, sep=\";\")\n",
        "df.show(5)"
      ],
      "execution_count": 7,
      "outputs": [
        {
          "output_type": "stream",
          "text": [
            "+--------------------+----+---------+------------+----------+------+------------+-----+------+\n",
            "|                 Car| MPG|Cylinders|Displacement|Horsepower|Weight|Acceleration|Model|Origin|\n",
            "+--------------------+----+---------+------------+----------+------+------------+-----+------+\n",
            "|Chevrolet Chevell...|18.0|        8|       307.0|     130.0| 3504.|        12.0|   70|    US|\n",
            "|   Buick Skylark 320|15.0|        8|       350.0|     165.0| 3693.|        11.5|   70|    US|\n",
            "|  Plymouth Satellite|18.0|        8|       318.0|     150.0| 3436.|        11.0|   70|    US|\n",
            "|       AMC Rebel SST|16.0|        8|       304.0|     150.0| 3433.|        12.0|   70|    US|\n",
            "|         Ford Torino|17.0|        8|       302.0|     140.0| 3449.|        10.5|   70|    US|\n",
            "+--------------------+----+---------+------------+----------+------+------------+-----+------+\n",
            "only showing top 5 rows\n",
            "\n"
          ],
          "name": "stdout"
        }
      ]
    },
    {
      "cell_type": "code",
      "metadata": {
        "colab": {
          "base_uri": "https://localhost:8080/"
        },
        "id": "m64GwqsAjmCH",
        "outputId": "079c97d7-d2a2-4f9b-a8e5-052eb6d4f949"
      },
      "source": [
        "\n",
        "\n",
        "df.show(5, truncate=False)\n",
        "\n"
      ],
      "execution_count": 8,
      "outputs": [
        {
          "output_type": "stream",
          "text": [
            "+-------------------------+----+---------+------------+----------+------+------------+-----+------+\n",
            "|Car                      |MPG |Cylinders|Displacement|Horsepower|Weight|Acceleration|Model|Origin|\n",
            "+-------------------------+----+---------+------------+----------+------+------------+-----+------+\n",
            "|Chevrolet Chevelle Malibu|18.0|8        |307.0       |130.0     |3504. |12.0        |70   |US    |\n",
            "|Buick Skylark 320        |15.0|8        |350.0       |165.0     |3693. |11.5        |70   |US    |\n",
            "|Plymouth Satellite       |18.0|8        |318.0       |150.0     |3436. |11.0        |70   |US    |\n",
            "|AMC Rebel SST            |16.0|8        |304.0       |150.0     |3433. |12.0        |70   |US    |\n",
            "|Ford Torino              |17.0|8        |302.0       |140.0     |3449. |10.5        |70   |US    |\n",
            "+-------------------------+----+---------+------------+----------+------+------------+-----+------+\n",
            "only showing top 5 rows\n",
            "\n"
          ],
          "name": "stdout"
        }
      ]
    },
    {
      "cell_type": "code",
      "metadata": {
        "colab": {
          "base_uri": "https://localhost:8080/",
          "height": 158
        },
        "id": "KsxQ4ceJjn5F",
        "outputId": "1b232b7e-7db9-4060-c78b-8399e69f025e"
      },
      "source": [
        "df.limit(5)"
      ],
      "execution_count": 9,
      "outputs": [
        {
          "output_type": "execute_result",
          "data": {
            "text/html": [
              "<table border='1'>\n",
              "<tr><th>Car</th><th>MPG</th><th>Cylinders</th><th>Displacement</th><th>Horsepower</th><th>Weight</th><th>Acceleration</th><th>Model</th><th>Origin</th></tr>\n",
              "<tr><td>Chevrolet Chevell...</td><td>18.0</td><td>8</td><td>307.0</td><td>130.0</td><td>3504.</td><td>12.0</td><td>70</td><td>US</td></tr>\n",
              "<tr><td>Buick Skylark 320</td><td>15.0</td><td>8</td><td>350.0</td><td>165.0</td><td>3693.</td><td>11.5</td><td>70</td><td>US</td></tr>\n",
              "<tr><td>Plymouth Satellite</td><td>18.0</td><td>8</td><td>318.0</td><td>150.0</td><td>3436.</td><td>11.0</td><td>70</td><td>US</td></tr>\n",
              "<tr><td>AMC Rebel SST</td><td>16.0</td><td>8</td><td>304.0</td><td>150.0</td><td>3433.</td><td>12.0</td><td>70</td><td>US</td></tr>\n",
              "<tr><td>Ford Torino</td><td>17.0</td><td>8</td><td>302.0</td><td>140.0</td><td>3449.</td><td>10.5</td><td>70</td><td>US</td></tr>\n",
              "</table>\n"
            ],
            "text/plain": [
              "+--------------------+----+---------+------------+----------+------+------------+-----+------+\n",
              "|                 Car| MPG|Cylinders|Displacement|Horsepower|Weight|Acceleration|Model|Origin|\n",
              "+--------------------+----+---------+------------+----------+------+------------+-----+------+\n",
              "|Chevrolet Chevell...|18.0|        8|       307.0|     130.0| 3504.|        12.0|   70|    US|\n",
              "|   Buick Skylark 320|15.0|        8|       350.0|     165.0| 3693.|        11.5|   70|    US|\n",
              "|  Plymouth Satellite|18.0|        8|       318.0|     150.0| 3436.|        11.0|   70|    US|\n",
              "|       AMC Rebel SST|16.0|        8|       304.0|     150.0| 3433.|        12.0|   70|    US|\n",
              "|         Ford Torino|17.0|        8|       302.0|     140.0| 3449.|        10.5|   70|    US|\n",
              "+--------------------+----+---------+------------+----------+------+------------+-----+------+"
            ]
          },
          "metadata": {
            "tags": []
          },
          "execution_count": 9
        }
      ]
    },
    {
      "cell_type": "code",
      "metadata": {
        "colab": {
          "base_uri": "https://localhost:8080/"
        },
        "id": "9lULa3YvjqF-",
        "outputId": "cf3ad9e6-4eb9-4bc5-aab6-0860fc0a5a0d"
      },
      "source": [
        "\n",
        "\n",
        "df.columns\n",
        "\n"
      ],
      "execution_count": 10,
      "outputs": [
        {
          "output_type": "execute_result",
          "data": {
            "text/plain": [
              "['Car',\n",
              " 'MPG',\n",
              " 'Cylinders',\n",
              " 'Displacement',\n",
              " 'Horsepower',\n",
              " 'Weight',\n",
              " 'Acceleration',\n",
              " 'Model',\n",
              " 'Origin']"
            ]
          },
          "metadata": {
            "tags": []
          },
          "execution_count": 10
        }
      ]
    },
    {
      "cell_type": "code",
      "metadata": {
        "colab": {
          "base_uri": "https://localhost:8080/"
        },
        "id": "FvD4v_EXjtAO",
        "outputId": "d309a2d4-e1a0-4752-d8ca-28b89002dd29"
      },
      "source": [
        "\n",
        "\n",
        "df.dtypes\n",
        "\n"
      ],
      "execution_count": 11,
      "outputs": [
        {
          "output_type": "execute_result",
          "data": {
            "text/plain": [
              "[('Car', 'string'),\n",
              " ('MPG', 'string'),\n",
              " ('Cylinders', 'string'),\n",
              " ('Displacement', 'string'),\n",
              " ('Horsepower', 'string'),\n",
              " ('Weight', 'string'),\n",
              " ('Acceleration', 'string'),\n",
              " ('Model', 'string'),\n",
              " ('Origin', 'string')]"
            ]
          },
          "metadata": {
            "tags": []
          },
          "execution_count": 11
        }
      ]
    },
    {
      "cell_type": "code",
      "metadata": {
        "colab": {
          "base_uri": "https://localhost:8080/"
        },
        "id": "yMKJWNYHjxMW",
        "outputId": "0dd710a5-63cd-433f-93c1-1c9d27ce4d08"
      },
      "source": [
        "df.printSchema()"
      ],
      "execution_count": 12,
      "outputs": [
        {
          "output_type": "stream",
          "text": [
            "root\n",
            " |-- Car: string (nullable = true)\n",
            " |-- MPG: string (nullable = true)\n",
            " |-- Cylinders: string (nullable = true)\n",
            " |-- Displacement: string (nullable = true)\n",
            " |-- Horsepower: string (nullable = true)\n",
            " |-- Weight: string (nullable = true)\n",
            " |-- Acceleration: string (nullable = true)\n",
            " |-- Model: string (nullable = true)\n",
            " |-- Origin: string (nullable = true)\n",
            "\n"
          ],
          "name": "stdout"
        }
      ]
    },
    {
      "cell_type": "code",
      "metadata": {
        "colab": {
          "base_uri": "https://localhost:8080/"
        },
        "id": "443O4Fh5jzxy",
        "outputId": "4ad35f7c-cecc-4475-8a96-d8e530eb2c0b"
      },
      "source": [
        "\n",
        "\n",
        "df = spark.read.csv('cars.csv', header=True, sep=\";\", inferSchema=True)\n",
        "df.printSchema()\n",
        "\n"
      ],
      "execution_count": 13,
      "outputs": [
        {
          "output_type": "stream",
          "text": [
            "root\n",
            " |-- Car: string (nullable = true)\n",
            " |-- MPG: double (nullable = true)\n",
            " |-- Cylinders: integer (nullable = true)\n",
            " |-- Displacement: double (nullable = true)\n",
            " |-- Horsepower: double (nullable = true)\n",
            " |-- Weight: decimal(4,0) (nullable = true)\n",
            " |-- Acceleration: double (nullable = true)\n",
            " |-- Model: integer (nullable = true)\n",
            " |-- Origin: string (nullable = true)\n",
            "\n"
          ],
          "name": "stdout"
        }
      ]
    },
    {
      "cell_type": "code",
      "metadata": {
        "colab": {
          "base_uri": "https://localhost:8080/"
        },
        "id": "9__nIdUHj3XN",
        "outputId": "fd0ac49f-5688-4a3f-c1a2-1a9b1ddd9482"
      },
      "source": [
        "\n",
        "\n",
        "from pyspark.sql.types import *\n",
        "df.columns\n",
        "\n"
      ],
      "execution_count": 14,
      "outputs": [
        {
          "output_type": "execute_result",
          "data": {
            "text/plain": [
              "['Car',\n",
              " 'MPG',\n",
              " 'Cylinders',\n",
              " 'Displacement',\n",
              " 'Horsepower',\n",
              " 'Weight',\n",
              " 'Acceleration',\n",
              " 'Model',\n",
              " 'Origin']"
            ]
          },
          "metadata": {
            "tags": []
          },
          "execution_count": 14
        }
      ]
    },
    {
      "cell_type": "code",
      "metadata": {
        "id": "KRh7tpcMj7K3"
      },
      "source": [
        "# Creating a list of the schema in the format column_name, data_type\n",
        "labels = [\n",
        "     ('Car',StringType()),\n",
        "     ('MPG',DoubleType()),\n",
        "     ('Cylinders',IntegerType()),\n",
        "     ('Displacement',DoubleType()),\n",
        "     ('Horsepower',DoubleType()),\n",
        "     ('Weight',DoubleType()),\n",
        "     ('Acceleration',DoubleType()),\n",
        "     ('Model',IntegerType()),\n",
        "     ('Origin',StringType())\n",
        "]"
      ],
      "execution_count": 15,
      "outputs": []
    },
    {
      "cell_type": "code",
      "metadata": {
        "colab": {
          "base_uri": "https://localhost:8080/"
        },
        "id": "me3pQ1q5j_ST",
        "outputId": "393c96da-e9db-47b1-b4fa-efec3d6041ac"
      },
      "source": [
        "\n",
        "\n",
        "# Creating the schema that will be passed when reading the csv\n",
        "schema = StructType([StructField (x[0], x[1], True) for x in labels])\n",
        "schema\n",
        "\n"
      ],
      "execution_count": 16,
      "outputs": [
        {
          "output_type": "execute_result",
          "data": {
            "text/plain": [
              "StructType(List(StructField(Car,StringType,true),StructField(MPG,DoubleType,true),StructField(Cylinders,IntegerType,true),StructField(Displacement,DoubleType,true),StructField(Horsepower,DoubleType,true),StructField(Weight,DoubleType,true),StructField(Acceleration,DoubleType,true),StructField(Model,IntegerType,true),StructField(Origin,StringType,true)))"
            ]
          },
          "metadata": {
            "tags": []
          },
          "execution_count": 16
        }
      ]
    },
    {
      "cell_type": "code",
      "metadata": {
        "colab": {
          "base_uri": "https://localhost:8080/"
        },
        "id": "0neIDGkhkBkg",
        "outputId": "2e766336-e0eb-4be3-deb3-72011b112b98"
      },
      "source": [
        "\n",
        "\n",
        "df = spark.read.csv('cars.csv', header=True, sep=\";\", schema=schema)\n",
        "df.printSchema()\n",
        "# The schema comes as we gave!\n",
        "\n"
      ],
      "execution_count": 17,
      "outputs": [
        {
          "output_type": "stream",
          "text": [
            "root\n",
            " |-- Car: string (nullable = true)\n",
            " |-- MPG: double (nullable = true)\n",
            " |-- Cylinders: integer (nullable = true)\n",
            " |-- Displacement: double (nullable = true)\n",
            " |-- Horsepower: double (nullable = true)\n",
            " |-- Weight: double (nullable = true)\n",
            " |-- Acceleration: double (nullable = true)\n",
            " |-- Model: integer (nullable = true)\n",
            " |-- Origin: string (nullable = true)\n",
            "\n"
          ],
          "name": "stdout"
        }
      ]
    },
    {
      "cell_type": "code",
      "metadata": {
        "colab": {
          "base_uri": "https://localhost:8080/"
        },
        "id": "tFSf0c0KkEaX",
        "outputId": "eb63b41d-4351-436e-e973-8371167ba128"
      },
      "source": [
        "\n",
        "\n",
        "df.show(truncate=False)\n",
        "\n"
      ],
      "execution_count": 18,
      "outputs": [
        {
          "output_type": "stream",
          "text": [
            "+--------------------------------+----+---------+------------+----------+------+------------+-----+------+\n",
            "|Car                             |MPG |Cylinders|Displacement|Horsepower|Weight|Acceleration|Model|Origin|\n",
            "+--------------------------------+----+---------+------------+----------+------+------------+-----+------+\n",
            "|Chevrolet Chevelle Malibu       |18.0|8        |307.0       |130.0     |3504.0|12.0        |70   |US    |\n",
            "|Buick Skylark 320               |15.0|8        |350.0       |165.0     |3693.0|11.5        |70   |US    |\n",
            "|Plymouth Satellite              |18.0|8        |318.0       |150.0     |3436.0|11.0        |70   |US    |\n",
            "|AMC Rebel SST                   |16.0|8        |304.0       |150.0     |3433.0|12.0        |70   |US    |\n",
            "|Ford Torino                     |17.0|8        |302.0       |140.0     |3449.0|10.5        |70   |US    |\n",
            "|Ford Galaxie 500                |15.0|8        |429.0       |198.0     |4341.0|10.0        |70   |US    |\n",
            "|Chevrolet Impala                |14.0|8        |454.0       |220.0     |4354.0|9.0         |70   |US    |\n",
            "|Plymouth Fury iii               |14.0|8        |440.0       |215.0     |4312.0|8.5         |70   |US    |\n",
            "|Pontiac Catalina                |14.0|8        |455.0       |225.0     |4425.0|10.0        |70   |US    |\n",
            "|AMC Ambassador DPL              |15.0|8        |390.0       |190.0     |3850.0|8.5         |70   |US    |\n",
            "|Citroen DS-21 Pallas            |0.0 |4        |133.0       |115.0     |3090.0|17.5        |70   |Europe|\n",
            "|Chevrolet Chevelle Concours (sw)|0.0 |8        |350.0       |165.0     |4142.0|11.5        |70   |US    |\n",
            "|Ford Torino (sw)                |0.0 |8        |351.0       |153.0     |4034.0|11.0        |70   |US    |\n",
            "|Plymouth Satellite (sw)         |0.0 |8        |383.0       |175.0     |4166.0|10.5        |70   |US    |\n",
            "|AMC Rebel SST (sw)              |0.0 |8        |360.0       |175.0     |3850.0|11.0        |70   |US    |\n",
            "|Dodge Challenger SE             |15.0|8        |383.0       |170.0     |3563.0|10.0        |70   |US    |\n",
            "|Plymouth 'Cuda 340              |14.0|8        |340.0       |160.0     |3609.0|8.0         |70   |US    |\n",
            "|Ford Mustang Boss 302           |0.0 |8        |302.0       |140.0     |3353.0|8.0         |70   |US    |\n",
            "|Chevrolet Monte Carlo           |15.0|8        |400.0       |150.0     |3761.0|9.5         |70   |US    |\n",
            "|Buick Estate Wagon (sw)         |14.0|8        |455.0       |225.0     |3086.0|10.0        |70   |US    |\n",
            "+--------------------------------+----+---------+------------+----------+------+------------+-----+------+\n",
            "only showing top 20 rows\n",
            "\n"
          ],
          "name": "stdout"
        }
      ]
    },
    {
      "cell_type": "code",
      "metadata": {
        "colab": {
          "base_uri": "https://localhost:8080/"
        },
        "id": "ZbWLnKRDkIoA",
        "outputId": "cf8cf3af-d27f-4ec5-b783-f5d4d46cbb55"
      },
      "source": [
        "# 1st method\n",
        "# Column name is case sensitive in this usage\n",
        "print(df.Car)\n",
        "print(\"*\"*20)\n",
        "df.select(df.Car).show(truncate=False)"
      ],
      "execution_count": 19,
      "outputs": [
        {
          "output_type": "stream",
          "text": [
            "Column<'Car'>\n",
            "********************\n",
            "+--------------------------------+\n",
            "|Car                             |\n",
            "+--------------------------------+\n",
            "|Chevrolet Chevelle Malibu       |\n",
            "|Buick Skylark 320               |\n",
            "|Plymouth Satellite              |\n",
            "|AMC Rebel SST                   |\n",
            "|Ford Torino                     |\n",
            "|Ford Galaxie 500                |\n",
            "|Chevrolet Impala                |\n",
            "|Plymouth Fury iii               |\n",
            "|Pontiac Catalina                |\n",
            "|AMC Ambassador DPL              |\n",
            "|Citroen DS-21 Pallas            |\n",
            "|Chevrolet Chevelle Concours (sw)|\n",
            "|Ford Torino (sw)                |\n",
            "|Plymouth Satellite (sw)         |\n",
            "|AMC Rebel SST (sw)              |\n",
            "|Dodge Challenger SE             |\n",
            "|Plymouth 'Cuda 340              |\n",
            "|Ford Mustang Boss 302           |\n",
            "|Chevrolet Monte Carlo           |\n",
            "|Buick Estate Wagon (sw)         |\n",
            "+--------------------------------+\n",
            "only showing top 20 rows\n",
            "\n"
          ],
          "name": "stdout"
        }
      ]
    },
    {
      "cell_type": "code",
      "metadata": {
        "colab": {
          "base_uri": "https://localhost:8080/"
        },
        "id": "G6TIHlIXkMlJ",
        "outputId": "9fc99b3d-cf8d-4061-e902-8511700aab2a"
      },
      "source": [
        "# 2nd method\n",
        "# Column name is case insensitive here\n",
        "print(df['car'])\n",
        "print(\"*\"*20)\n",
        "df.select(df['car']).show(truncate=False)"
      ],
      "execution_count": 20,
      "outputs": [
        {
          "output_type": "stream",
          "text": [
            "Column<'car'>\n",
            "********************\n",
            "+--------------------------------+\n",
            "|car                             |\n",
            "+--------------------------------+\n",
            "|Chevrolet Chevelle Malibu       |\n",
            "|Buick Skylark 320               |\n",
            "|Plymouth Satellite              |\n",
            "|AMC Rebel SST                   |\n",
            "|Ford Torino                     |\n",
            "|Ford Galaxie 500                |\n",
            "|Chevrolet Impala                |\n",
            "|Plymouth Fury iii               |\n",
            "|Pontiac Catalina                |\n",
            "|AMC Ambassador DPL              |\n",
            "|Citroen DS-21 Pallas            |\n",
            "|Chevrolet Chevelle Concours (sw)|\n",
            "|Ford Torino (sw)                |\n",
            "|Plymouth Satellite (sw)         |\n",
            "|AMC Rebel SST (sw)              |\n",
            "|Dodge Challenger SE             |\n",
            "|Plymouth 'Cuda 340              |\n",
            "|Ford Mustang Boss 302           |\n",
            "|Chevrolet Monte Carlo           |\n",
            "|Buick Estate Wagon (sw)         |\n",
            "+--------------------------------+\n",
            "only showing top 20 rows\n",
            "\n"
          ],
          "name": "stdout"
        }
      ]
    },
    {
      "cell_type": "code",
      "metadata": {
        "colab": {
          "base_uri": "https://localhost:8080/"
        },
        "id": "nLzd4_2kkPQP",
        "outputId": "e021ba31-9bcf-4c4e-daa4-2b24b90eb065"
      },
      "source": [
        "# 3rd method\n",
        "# Column name is case insensitive here\n",
        "from pyspark.sql.functions import col\n",
        "df.select(col('car')).show(truncate=False)"
      ],
      "execution_count": 21,
      "outputs": [
        {
          "output_type": "stream",
          "text": [
            "+--------------------------------+\n",
            "|car                             |\n",
            "+--------------------------------+\n",
            "|Chevrolet Chevelle Malibu       |\n",
            "|Buick Skylark 320               |\n",
            "|Plymouth Satellite              |\n",
            "|AMC Rebel SST                   |\n",
            "|Ford Torino                     |\n",
            "|Ford Galaxie 500                |\n",
            "|Chevrolet Impala                |\n",
            "|Plymouth Fury iii               |\n",
            "|Pontiac Catalina                |\n",
            "|AMC Ambassador DPL              |\n",
            "|Citroen DS-21 Pallas            |\n",
            "|Chevrolet Chevelle Concours (sw)|\n",
            "|Ford Torino (sw)                |\n",
            "|Plymouth Satellite (sw)         |\n",
            "|AMC Rebel SST (sw)              |\n",
            "|Dodge Challenger SE             |\n",
            "|Plymouth 'Cuda 340              |\n",
            "|Ford Mustang Boss 302           |\n",
            "|Chevrolet Monte Carlo           |\n",
            "|Buick Estate Wagon (sw)         |\n",
            "+--------------------------------+\n",
            "only showing top 20 rows\n",
            "\n"
          ],
          "name": "stdout"
        }
      ]
    },
    {
      "cell_type": "code",
      "metadata": {
        "colab": {
          "base_uri": "https://localhost:8080/"
        },
        "id": "2WwNelBykR9a",
        "outputId": "9ef36e58-8421-4d88-da5e-9b5e2cc49bd9"
      },
      "source": [
        "# 1st method\n",
        "# Column name is case sensitive in this usage\n",
        "print(df.Car, df.Cylinders)\n",
        "print(\"*\"*40)\n",
        "df.select(df.Car, df.Cylinders).show(truncate=False)"
      ],
      "execution_count": 22,
      "outputs": [
        {
          "output_type": "stream",
          "text": [
            "Column<'Car'> Column<'Cylinders'>\n",
            "****************************************\n",
            "+--------------------------------+---------+\n",
            "|Car                             |Cylinders|\n",
            "+--------------------------------+---------+\n",
            "|Chevrolet Chevelle Malibu       |8        |\n",
            "|Buick Skylark 320               |8        |\n",
            "|Plymouth Satellite              |8        |\n",
            "|AMC Rebel SST                   |8        |\n",
            "|Ford Torino                     |8        |\n",
            "|Ford Galaxie 500                |8        |\n",
            "|Chevrolet Impala                |8        |\n",
            "|Plymouth Fury iii               |8        |\n",
            "|Pontiac Catalina                |8        |\n",
            "|AMC Ambassador DPL              |8        |\n",
            "|Citroen DS-21 Pallas            |4        |\n",
            "|Chevrolet Chevelle Concours (sw)|8        |\n",
            "|Ford Torino (sw)                |8        |\n",
            "|Plymouth Satellite (sw)         |8        |\n",
            "|AMC Rebel SST (sw)              |8        |\n",
            "|Dodge Challenger SE             |8        |\n",
            "|Plymouth 'Cuda 340              |8        |\n",
            "|Ford Mustang Boss 302           |8        |\n",
            "|Chevrolet Monte Carlo           |8        |\n",
            "|Buick Estate Wagon (sw)         |8        |\n",
            "+--------------------------------+---------+\n",
            "only showing top 20 rows\n",
            "\n"
          ],
          "name": "stdout"
        }
      ]
    },
    {
      "cell_type": "code",
      "metadata": {
        "colab": {
          "base_uri": "https://localhost:8080/"
        },
        "id": "UOIwSL35kWAA",
        "outputId": "a243e492-87d4-4a63-b4e9-49eab4ae3bfa"
      },
      "source": [
        "# 2nd method\n",
        "# Column name is case insensitive in this usage\n",
        "print(df['car'],df['cylinders'])\n",
        "print(\"*\"*40)\n",
        "df.select(df['car'],df['cylinders']).show(truncate=False)"
      ],
      "execution_count": 23,
      "outputs": [
        {
          "output_type": "stream",
          "text": [
            "Column<'car'> Column<'cylinders'>\n",
            "****************************************\n",
            "+--------------------------------+---------+\n",
            "|car                             |cylinders|\n",
            "+--------------------------------+---------+\n",
            "|Chevrolet Chevelle Malibu       |8        |\n",
            "|Buick Skylark 320               |8        |\n",
            "|Plymouth Satellite              |8        |\n",
            "|AMC Rebel SST                   |8        |\n",
            "|Ford Torino                     |8        |\n",
            "|Ford Galaxie 500                |8        |\n",
            "|Chevrolet Impala                |8        |\n",
            "|Plymouth Fury iii               |8        |\n",
            "|Pontiac Catalina                |8        |\n",
            "|AMC Ambassador DPL              |8        |\n",
            "|Citroen DS-21 Pallas            |4        |\n",
            "|Chevrolet Chevelle Concours (sw)|8        |\n",
            "|Ford Torino (sw)                |8        |\n",
            "|Plymouth Satellite (sw)         |8        |\n",
            "|AMC Rebel SST (sw)              |8        |\n",
            "|Dodge Challenger SE             |8        |\n",
            "|Plymouth 'Cuda 340              |8        |\n",
            "|Ford Mustang Boss 302           |8        |\n",
            "|Chevrolet Monte Carlo           |8        |\n",
            "|Buick Estate Wagon (sw)         |8        |\n",
            "+--------------------------------+---------+\n",
            "only showing top 20 rows\n",
            "\n"
          ],
          "name": "stdout"
        }
      ]
    },
    {
      "cell_type": "code",
      "metadata": {
        "colab": {
          "base_uri": "https://localhost:8080/"
        },
        "id": "Ix_m2eiQkbYm",
        "outputId": "4a7a9d3d-27ce-4320-e4c8-a9aeb8dffeb2"
      },
      "source": [
        "# 3rd method\n",
        "# Column name is case insensitive in this usage\n",
        "from pyspark.sql.functions import col\n",
        "df.select(col('car'),col('cylinders')).show(truncate=False)"
      ],
      "execution_count": 24,
      "outputs": [
        {
          "output_type": "stream",
          "text": [
            "+--------------------------------+---------+\n",
            "|car                             |cylinders|\n",
            "+--------------------------------+---------+\n",
            "|Chevrolet Chevelle Malibu       |8        |\n",
            "|Buick Skylark 320               |8        |\n",
            "|Plymouth Satellite              |8        |\n",
            "|AMC Rebel SST                   |8        |\n",
            "|Ford Torino                     |8        |\n",
            "|Ford Galaxie 500                |8        |\n",
            "|Chevrolet Impala                |8        |\n",
            "|Plymouth Fury iii               |8        |\n",
            "|Pontiac Catalina                |8        |\n",
            "|AMC Ambassador DPL              |8        |\n",
            "|Citroen DS-21 Pallas            |4        |\n",
            "|Chevrolet Chevelle Concours (sw)|8        |\n",
            "|Ford Torino (sw)                |8        |\n",
            "|Plymouth Satellite (sw)         |8        |\n",
            "|AMC Rebel SST (sw)              |8        |\n",
            "|Dodge Challenger SE             |8        |\n",
            "|Plymouth 'Cuda 340              |8        |\n",
            "|Ford Mustang Boss 302           |8        |\n",
            "|Chevrolet Monte Carlo           |8        |\n",
            "|Buick Estate Wagon (sw)         |8        |\n",
            "+--------------------------------+---------+\n",
            "only showing top 20 rows\n",
            "\n"
          ],
          "name": "stdout"
        }
      ]
    },
    {
      "cell_type": "code",
      "metadata": {
        "colab": {
          "base_uri": "https://localhost:8080/"
        },
        "id": "D_SAyPOskexP",
        "outputId": "7c16c68b-0203-4e9b-f19f-a00a2cb6f0ad"
      },
      "source": [
        "# CASE 1: Adding a new column\n",
        "# We will add a new column called 'first_column' at the end\n",
        "from pyspark.sql.functions import lit\n",
        "df = df.withColumn('first_column',lit(1))\n",
        "# lit means literal. It populates the row with the literal value given.\n",
        "# When adding static data / constant values, it is a good practice to use it.\n",
        "df.show(5,truncate=False)"
      ],
      "execution_count": 25,
      "outputs": [
        {
          "output_type": "stream",
          "text": [
            "+-------------------------+----+---------+------------+----------+------+------------+-----+------+------------+\n",
            "|Car                      |MPG |Cylinders|Displacement|Horsepower|Weight|Acceleration|Model|Origin|first_column|\n",
            "+-------------------------+----+---------+------------+----------+------+------------+-----+------+------------+\n",
            "|Chevrolet Chevelle Malibu|18.0|8        |307.0       |130.0     |3504.0|12.0        |70   |US    |1           |\n",
            "|Buick Skylark 320        |15.0|8        |350.0       |165.0     |3693.0|11.5        |70   |US    |1           |\n",
            "|Plymouth Satellite       |18.0|8        |318.0       |150.0     |3436.0|11.0        |70   |US    |1           |\n",
            "|AMC Rebel SST            |16.0|8        |304.0       |150.0     |3433.0|12.0        |70   |US    |1           |\n",
            "|Ford Torino              |17.0|8        |302.0       |140.0     |3449.0|10.5        |70   |US    |1           |\n",
            "+-------------------------+----+---------+------------+----------+------+------------+-----+------+------------+\n",
            "only showing top 5 rows\n",
            "\n"
          ],
          "name": "stdout"
        }
      ]
    },
    {
      "cell_type": "code",
      "metadata": {
        "colab": {
          "base_uri": "https://localhost:8080/"
        },
        "id": "WF0gHA58kk4b",
        "outputId": "4f0ea8b3-d097-40e2-8b09-9ab4ccf5886f"
      },
      "source": [
        "# CASE 2: Adding multiple columns\n",
        "# We will add two new columns called 'second_column' and 'third_column' at the end\n",
        "df = df.withColumn('second_column', lit(2)) \\\n",
        "       .withColumn('third_column', lit('Third Column'))\n",
        "# lit means literal. It populates the row with the literal value given.\n",
        "# When adding static data / constant values, it is a good practice to use it.\n",
        "df.show(5,truncate=False)"
      ],
      "execution_count": 26,
      "outputs": [
        {
          "output_type": "stream",
          "text": [
            "+-------------------------+----+---------+------------+----------+------+------------+-----+------+------------+-------------+------------+\n",
            "|Car                      |MPG |Cylinders|Displacement|Horsepower|Weight|Acceleration|Model|Origin|first_column|second_column|third_column|\n",
            "+-------------------------+----+---------+------------+----------+------+------------+-----+------+------------+-------------+------------+\n",
            "|Chevrolet Chevelle Malibu|18.0|8        |307.0       |130.0     |3504.0|12.0        |70   |US    |1           |2            |Third Column|\n",
            "|Buick Skylark 320        |15.0|8        |350.0       |165.0     |3693.0|11.5        |70   |US    |1           |2            |Third Column|\n",
            "|Plymouth Satellite       |18.0|8        |318.0       |150.0     |3436.0|11.0        |70   |US    |1           |2            |Third Column|\n",
            "|AMC Rebel SST            |16.0|8        |304.0       |150.0     |3433.0|12.0        |70   |US    |1           |2            |Third Column|\n",
            "|Ford Torino              |17.0|8        |302.0       |140.0     |3449.0|10.5        |70   |US    |1           |2            |Third Column|\n",
            "+-------------------------+----+---------+------------+----------+------+------------+-----+------+------------+-------------+------------+\n",
            "only showing top 5 rows\n",
            "\n"
          ],
          "name": "stdout"
        }
      ]
    },
    {
      "cell_type": "code",
      "metadata": {
        "colab": {
          "base_uri": "https://localhost:8080/"
        },
        "id": "bPCYIOlWknlX",
        "outputId": "ae429891-391e-4dab-bc8c-7729e3113bd5"
      },
      "source": [
        "# CASE 3: Deriving a new column from an exisitng one\n",
        "# We will add a new column called 'car_model' which has the value of car and model appended together with a space in between \n",
        "from pyspark.sql.functions import concat\n",
        "df = df.withColumn('car_model', concat(col(\"Car\"), lit(\" \"), col(\"model\")))\n",
        "# lit means literal. It populates the row with the literal value given.\n",
        "# When adding static data / constant values, it is a good practice to use it.\n",
        "df.show(5,truncate=False)"
      ],
      "execution_count": 27,
      "outputs": [
        {
          "output_type": "stream",
          "text": [
            "+-------------------------+----+---------+------------+----------+------+------------+-----+------+------------+-------------+------------+----------------------------+\n",
            "|Car                      |MPG |Cylinders|Displacement|Horsepower|Weight|Acceleration|Model|Origin|first_column|second_column|third_column|car_model                   |\n",
            "+-------------------------+----+---------+------------+----------+------+------------+-----+------+------------+-------------+------------+----------------------------+\n",
            "|Chevrolet Chevelle Malibu|18.0|8        |307.0       |130.0     |3504.0|12.0        |70   |US    |1           |2            |Third Column|Chevrolet Chevelle Malibu 70|\n",
            "|Buick Skylark 320        |15.0|8        |350.0       |165.0     |3693.0|11.5        |70   |US    |1           |2            |Third Column|Buick Skylark 320 70        |\n",
            "|Plymouth Satellite       |18.0|8        |318.0       |150.0     |3436.0|11.0        |70   |US    |1           |2            |Third Column|Plymouth Satellite 70       |\n",
            "|AMC Rebel SST            |16.0|8        |304.0       |150.0     |3433.0|12.0        |70   |US    |1           |2            |Third Column|AMC Rebel SST 70            |\n",
            "|Ford Torino              |17.0|8        |302.0       |140.0     |3449.0|10.5        |70   |US    |1           |2            |Third Column|Ford Torino 70              |\n",
            "+-------------------------+----+---------+------------+----------+------+------------+-----+------+------------+-------------+------------+----------------------------+\n",
            "only showing top 5 rows\n",
            "\n"
          ],
          "name": "stdout"
        }
      ]
    },
    {
      "cell_type": "code",
      "metadata": {
        "colab": {
          "base_uri": "https://localhost:8080/"
        },
        "id": "ofZerxjOkrHP",
        "outputId": "965b08fd-2d6a-4efe-949e-20c78a9e7774"
      },
      "source": [
        "#Renaming a column in PySpark\n",
        "df = df.withColumnRenamed('first_column', 'new_column_one') \\\n",
        "       .withColumnRenamed('second_column', 'new_column_two') \\\n",
        "       .withColumnRenamed('third_column', 'new_column_three')\n",
        "df.show(truncate=False)"
      ],
      "execution_count": 28,
      "outputs": [
        {
          "output_type": "stream",
          "text": [
            "+--------------------------------+----+---------+------------+----------+------+------------+-----+------+--------------+--------------+----------------+-----------------------------------+\n",
            "|Car                             |MPG |Cylinders|Displacement|Horsepower|Weight|Acceleration|Model|Origin|new_column_one|new_column_two|new_column_three|car_model                          |\n",
            "+--------------------------------+----+---------+------------+----------+------+------------+-----+------+--------------+--------------+----------------+-----------------------------------+\n",
            "|Chevrolet Chevelle Malibu       |18.0|8        |307.0       |130.0     |3504.0|12.0        |70   |US    |1             |2             |Third Column    |Chevrolet Chevelle Malibu 70       |\n",
            "|Buick Skylark 320               |15.0|8        |350.0       |165.0     |3693.0|11.5        |70   |US    |1             |2             |Third Column    |Buick Skylark 320 70               |\n",
            "|Plymouth Satellite              |18.0|8        |318.0       |150.0     |3436.0|11.0        |70   |US    |1             |2             |Third Column    |Plymouth Satellite 70              |\n",
            "|AMC Rebel SST                   |16.0|8        |304.0       |150.0     |3433.0|12.0        |70   |US    |1             |2             |Third Column    |AMC Rebel SST 70                   |\n",
            "|Ford Torino                     |17.0|8        |302.0       |140.0     |3449.0|10.5        |70   |US    |1             |2             |Third Column    |Ford Torino 70                     |\n",
            "|Ford Galaxie 500                |15.0|8        |429.0       |198.0     |4341.0|10.0        |70   |US    |1             |2             |Third Column    |Ford Galaxie 500 70                |\n",
            "|Chevrolet Impala                |14.0|8        |454.0       |220.0     |4354.0|9.0         |70   |US    |1             |2             |Third Column    |Chevrolet Impala 70                |\n",
            "|Plymouth Fury iii               |14.0|8        |440.0       |215.0     |4312.0|8.5         |70   |US    |1             |2             |Third Column    |Plymouth Fury iii 70               |\n",
            "|Pontiac Catalina                |14.0|8        |455.0       |225.0     |4425.0|10.0        |70   |US    |1             |2             |Third Column    |Pontiac Catalina 70                |\n",
            "|AMC Ambassador DPL              |15.0|8        |390.0       |190.0     |3850.0|8.5         |70   |US    |1             |2             |Third Column    |AMC Ambassador DPL 70              |\n",
            "|Citroen DS-21 Pallas            |0.0 |4        |133.0       |115.0     |3090.0|17.5        |70   |Europe|1             |2             |Third Column    |Citroen DS-21 Pallas 70            |\n",
            "|Chevrolet Chevelle Concours (sw)|0.0 |8        |350.0       |165.0     |4142.0|11.5        |70   |US    |1             |2             |Third Column    |Chevrolet Chevelle Concours (sw) 70|\n",
            "|Ford Torino (sw)                |0.0 |8        |351.0       |153.0     |4034.0|11.0        |70   |US    |1             |2             |Third Column    |Ford Torino (sw) 70                |\n",
            "|Plymouth Satellite (sw)         |0.0 |8        |383.0       |175.0     |4166.0|10.5        |70   |US    |1             |2             |Third Column    |Plymouth Satellite (sw) 70         |\n",
            "|AMC Rebel SST (sw)              |0.0 |8        |360.0       |175.0     |3850.0|11.0        |70   |US    |1             |2             |Third Column    |AMC Rebel SST (sw) 70              |\n",
            "|Dodge Challenger SE             |15.0|8        |383.0       |170.0     |3563.0|10.0        |70   |US    |1             |2             |Third Column    |Dodge Challenger SE 70             |\n",
            "|Plymouth 'Cuda 340              |14.0|8        |340.0       |160.0     |3609.0|8.0         |70   |US    |1             |2             |Third Column    |Plymouth 'Cuda 340 70              |\n",
            "|Ford Mustang Boss 302           |0.0 |8        |302.0       |140.0     |3353.0|8.0         |70   |US    |1             |2             |Third Column    |Ford Mustang Boss 302 70           |\n",
            "|Chevrolet Monte Carlo           |15.0|8        |400.0       |150.0     |3761.0|9.5         |70   |US    |1             |2             |Third Column    |Chevrolet Monte Carlo 70           |\n",
            "|Buick Estate Wagon (sw)         |14.0|8        |455.0       |225.0     |3086.0|10.0        |70   |US    |1             |2             |Third Column    |Buick Estate Wagon (sw) 70         |\n",
            "+--------------------------------+----+---------+------------+----------+------+------------+-----+------+--------------+--------------+----------------+-----------------------------------+\n",
            "only showing top 20 rows\n",
            "\n"
          ],
          "name": "stdout"
        }
      ]
    },
    {
      "cell_type": "code",
      "metadata": {
        "id": "BHfq6BVPkua5"
      },
      "source": [
        ""
      ],
      "execution_count": null,
      "outputs": []
    }
  ]
}